{
 "cells": [
  {
   "cell_type": "markdown",
   "id": "39219028-1964-42ad-942d-adbad361a1d6",
   "metadata": {},
   "source": [
    "Q1, Create a vehicle class with an init method having instance variables as name_of_vehicle, max_speed\n",
    "and average_of_vehicle."
   ]
  },
  {
   "cell_type": "code",
   "execution_count": 1,
   "id": "f4d1bb08-09ac-443c-8b03-1782e97b5c13",
   "metadata": {},
   "outputs": [],
   "source": [
    "class Vehicle:\n",
    "    def __init__(self, name_of_vehicle, max_speed, average_of_vehicle):\n",
    "        self.name_of_vehicle = name_of_vehicle\n",
    "        self.max_speed = max_speed\n",
    "        self.average_of_vehicle = average_of_vehicle"
   ]
  },
  {
   "cell_type": "code",
   "execution_count": 3,
   "id": "0c487e7c-c9b2-4910-b71c-421365cf2d65",
   "metadata": {},
   "outputs": [
    {
     "name": "stdout",
     "output_type": "stream",
     "text": [
      "Car\n",
      "250\n",
      "80\n"
     ]
    }
   ],
   "source": [
    "car = Vehicle(\"Car\", 250, 80)\n",
    "print(car.name_of_vehicle)  \n",
    "print(car.max_speed)  \n",
    "print(car.average_of_vehicle)"
   ]
  },
  {
   "cell_type": "markdown",
   "id": "9e4f7a35-f368-458a-956d-c0b660a899c2",
   "metadata": {},
   "source": [
    "Q2. Create a child class car from the vehicle class created in Que 1, which will inherit the vehicle class.\n",
    "Create a method named seating_capacity which takes capacity as an argument and returns the name of\n",
    "the vehicle and its seating capacity."
   ]
  },
  {
   "cell_type": "code",
   "execution_count": 4,
   "id": "d865c1b6-e51c-4bb2-bb05-911060810957",
   "metadata": {},
   "outputs": [],
   "source": [
    "class Car(Vehicle):\n",
    "    def seating_capacity(self, capacity):\n",
    "        return f\"{self.name_of_vehicle} - Seating Capacity: {capacity}\""
   ]
  },
  {
   "cell_type": "code",
   "execution_count": 5,
   "id": "9f498403-a31d-4f9f-80ff-29f22ada5e2f",
   "metadata": {},
   "outputs": [
    {
     "name": "stdout",
     "output_type": "stream",
     "text": [
      "Creta - Seating Capacity: 5\n"
     ]
    }
   ],
   "source": [
    "car = Car(\"Creta\", 200, 4)\n",
    "print(car.seating_capacity(5))"
   ]
  },
  {
   "cell_type": "markdown",
   "id": "010c20f0-10bf-425d-b27a-96538f209659",
   "metadata": {},
   "source": [
    "Q3. What is multiple inheritance? Write a python code to demonstrate multiple inheritance."
   ]
  },
  {
   "cell_type": "code",
   "execution_count": null,
   "id": "9b3c4a2b-e53d-4e2e-9319-a42af8d12586",
   "metadata": {},
   "outputs": [],
   "source": [
    "Multiple Inheritance\n",
    "If a class derived from more than one base class it is called multiple inheritance."
   ]
  },
  {
   "cell_type": "code",
   "execution_count": 9,
   "id": "1749e80f-9798-4b3b-9449-c49cc217bf42",
   "metadata": {},
   "outputs": [
    {
     "name": "stdout",
     "output_type": "stream",
     "text": [
      "Rahil Pathan CEO 1000000\n"
     ]
    }
   ],
   "source": [
    "class Person:\n",
    "    def _init_(self):\n",
    "        self.__name=None\n",
    "    def setName(self,n):\n",
    "        self.__name=n\n",
    "    def getName(self):\n",
    "        return self.__name\n",
    "\n",
    "\n",
    "class Employee:\n",
    "    def _init_(self):\n",
    "        self.__job=None\n",
    "    def setJob(self,j):\n",
    "        self.__job=j\n",
    "    def getJob(self):\n",
    "        return self.__job\n",
    "\n",
    "class Worker(Person,Employee):\n",
    "    def _init_(self):\n",
    "        super()._init_()\n",
    "        Employee._init_(self)\n",
    "        self.__wage=None\n",
    "    def setWage(self,w):\n",
    "        self.__wage=w\n",
    "    def getWage(self):\n",
    "        return self.__wage\n",
    "\n",
    "def main():\n",
    "    worker1=Worker()\n",
    "    worker1.setName(\"Rahil Pathan\")\n",
    "    worker1.setJob(\"CEO\")\n",
    "    worker1.setWage(1000000)\n",
    "    name=worker1.getName()\n",
    "    job=worker1.getJob()\n",
    "    wage=worker1.getWage()\n",
    "    print(name,job,wage)\n",
    "    \n",
    "main()"
   ]
  },
  {
   "cell_type": "markdown",
   "id": "de6a6a0a-f6fe-4ccc-9717-4ace4892c38d",
   "metadata": {},
   "source": [
    "Q4. What are getter and setter in python? Create a class and create a getter and a setter method in this\n",
    "class."
   ]
  },
  {
   "cell_type": "code",
   "execution_count": null,
   "id": "40560e35-7033-4168-9e5d-30d68b04d539",
   "metadata": {},
   "outputs": [],
   "source": [
    "Ans:-In Python, getters and setters are methods used to access and modify the attributes of a class. "
   ]
  },
  {
   "cell_type": "code",
   "execution_count": null,
   "id": "1c64c774-2783-42af-aa68-a9c89f24a335",
   "metadata": {},
   "outputs": [],
   "source": [
    " example of a class Person with a getter and a setter method for the name attribute:"
   ]
  },
  {
   "cell_type": "code",
   "execution_count": 10,
   "id": "23ae434e-d289-40cd-8535-bd551c4a36ef",
   "metadata": {},
   "outputs": [
    {
     "name": "stdout",
     "output_type": "stream",
     "text": [
      "FAF & ABD\n"
     ]
    }
   ],
   "source": [
    "class Person:\n",
    "    def __init__(self):\n",
    "        self._name = None\n",
    "\n",
    "    def get_name(self):\n",
    "        return self._name\n",
    "\n",
    "    def set_name(self, name):\n",
    "        self._name = name\n",
    "\n",
    "# Create an instance of the Person class\n",
    "person = Person()\n",
    "\n",
    "# Use the setter method to set the name attribute\n",
    "person.set_name(\"FAF & ABD\")\n",
    "\n",
    "# Use the getter method to retrieve the name attribute\n",
    "print(person.get_name())  "
   ]
  },
  {
   "cell_type": "markdown",
   "id": "00636d4b-5354-4177-8e17-b6801d55dc6f",
   "metadata": {},
   "source": [
    "Q5.What is method overriding in python? Write a python code to demonstrate method overriding."
   ]
  },
  {
   "cell_type": "code",
   "execution_count": null,
   "id": "0893dab8-e367-4f2a-bc8e-32538d3c458c",
   "metadata": {},
   "outputs": [],
   "source": [
    "Ans: Method overriding in Python allows a subclass to provide a \n",
    "        different implementation of a method that is already defined in its superclass. "
   ]
  },
  {
   "cell_type": "code",
   "execution_count": 12,
   "id": "713733d3-cfb0-40e9-8fdc-2e5edf865b40",
   "metadata": {},
   "outputs": [
    {
     "name": "stdout",
     "output_type": "stream",
     "text": [
      "Animal is there\n",
      "Cat is not there\n"
     ]
    }
   ],
   "source": [
    "class Animal:\n",
    "    def sound(self):\n",
    "        print(\"Animal is there\")\n",
    "\n",
    "class Cat(Animal):\n",
    "    def sound(self):\n",
    "        print(\"Cat is not there\")\n",
    "\n",
    "# Create instances of the classes\n",
    "animal = Animal()\n",
    "cat = Cat()\n",
    "\n",
    "# Call the sound method on the instances\n",
    "animal.sound() \n",
    "cat.sound()  "
   ]
  },
  {
   "cell_type": "code",
   "execution_count": null,
   "id": "7d6a2a2d-f024-44f2-9843-93c7f87374b8",
   "metadata": {},
   "outputs": [],
   "source": []
  }
 ],
 "metadata": {
  "kernelspec": {
   "display_name": "Python 3 (ipykernel)",
   "language": "python",
   "name": "python3"
  },
  "language_info": {
   "codemirror_mode": {
    "name": "ipython",
    "version": 3
   },
   "file_extension": ".py",
   "mimetype": "text/x-python",
   "name": "python",
   "nbconvert_exporter": "python",
   "pygments_lexer": "ipython3",
   "version": "3.10.8"
  }
 },
 "nbformat": 4,
 "nbformat_minor": 5
}
